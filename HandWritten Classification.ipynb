{
 "cells": [
  {
   "cell_type": "markdown",
   "id": "af5e45dc",
   "metadata": {},
   "source": [
    "### HandWritten Digits Classification\n",
    "Basic MNIST HandWritten Data Classficiation\n",
    "(From the youtube channel CodeBasics)"
   ]
  },
  {
   "cell_type": "code",
   "execution_count": 1,
   "id": "2b076ebe",
   "metadata": {},
   "outputs": [],
   "source": [
    "import tensorflow as tf\n",
    "from tensorflow import keras\n",
    "import matplotlib.pyplot as plt\n",
    "import numpy as np"
   ]
  },
  {
   "cell_type": "code",
   "execution_count": 2,
   "id": "a140fb1d",
   "metadata": {},
   "outputs": [],
   "source": [
    "(X_train,Y_train),(X_test,Y_test) = keras.datasets.mnist.load_data()"
   ]
  },
  {
   "cell_type": "code",
   "execution_count": 3,
   "id": "206502f6",
   "metadata": {},
   "outputs": [
    {
     "data": {
      "text/plain": [
       "(60000, 60000, (60000, 28, 28))"
      ]
     },
     "execution_count": 3,
     "metadata": {},
     "output_type": "execute_result"
    }
   ],
   "source": [
    "len(X_train),len(X_train),X_train.shape"
   ]
  },
  {
   "cell_type": "code",
   "execution_count": 4,
   "id": "d17de630",
   "metadata": {},
   "outputs": [
    {
     "data": {
      "text/plain": [
       "((60000, 784), (10000, 784))"
      ]
     },
     "execution_count": 4,
     "metadata": {},
     "output_type": "execute_result"
    }
   ],
   "source": [
    "# Reshaping the arrays into 60,000 images of 24*24 or 784 bit pixel arrays\n",
    "X_train_flat = X_train.reshape(len(X_train),784)\n",
    "X_test_flat  = X_test.reshape(len(X_test),784)\n",
    "X_train_flat.shape,X_test_flat.shape"
   ]
  },
  {
   "cell_type": "code",
   "execution_count": 5,
   "id": "b2175b8f",
   "metadata": {},
   "outputs": [],
   "source": [
    "# Creating a simple Keras Neural Network with 784 input nodes and 10 output nodes\n",
    "model = keras.Sequential([\n",
    "    keras.layers.Dense(10,input_shape=(784,),activation = 'sigmoid')\n",
    "])"
   ]
  },
  {
   "cell_type": "code",
   "execution_count": 6,
   "id": "37cb2f3f",
   "metadata": {},
   "outputs": [],
   "source": [
    "# We are going to use SGD as optimizer which is short for Stochaistc Gradient Descent\n",
    "model.compile(optimizer = 'SGD',loss = 'mean_squared_error',metrics = ['accuracy'])"
   ]
  },
  {
   "cell_type": "code",
   "execution_count": 7,
   "id": "dae45570",
   "metadata": {},
   "outputs": [
    {
     "name": "stdout",
     "output_type": "stream",
     "text": [
      "Epoch 1/5\n",
      "1875/1875 [==============================] - 2s 911us/step - loss: 20.2845 - accuracy: 0.0986\n",
      "Epoch 2/5\n",
      "1875/1875 [==============================] - 1s 721us/step - loss: 20.2775 - accuracy: 0.0987\n",
      "Epoch 3/5\n",
      "1875/1875 [==============================] - 1s 691us/step - loss: 20.2775 - accuracy: 0.0987\n",
      "Epoch 4/5\n",
      "1875/1875 [==============================] - 1s 672us/step - loss: 20.2774 - accuracy: 0.0987\n",
      "Epoch 5/5\n",
      "1875/1875 [==============================] - 1s 707us/step - loss: 20.2774 - accuracy: 0.0987 0s - loss: 20.2887 - accuracy: 0.099\n"
     ]
    },
    {
     "data": {
      "text/plain": [
       "<tensorflow.python.keras.callbacks.History at 0x242b25dae50>"
      ]
     },
     "execution_count": 7,
     "metadata": {},
     "output_type": "execute_result"
    }
   ],
   "source": [
    "#Training the model\n",
    "model.fit(X_train_flat,Y_train,epochs =5)"
   ]
  },
  {
   "cell_type": "code",
   "execution_count": 8,
   "id": "04dd7263",
   "metadata": {},
   "outputs": [
    {
     "name": "stdout",
     "output_type": "stream",
     "text": [
      "313/313 [==============================] - 0s 1ms/step - loss: 20.2423 - accuracy: 0.0980\n"
     ]
    },
    {
     "data": {
      "text/plain": [
       "[20.242290496826172, 0.09799999743700027]"
      ]
     },
     "execution_count": 8,
     "metadata": {},
     "output_type": "execute_result"
    }
   ],
   "source": [
    "# TEsting the model using test data\n",
    "model.evaluate(X_test_flat,Y_test)"
   ]
  },
  {
   "cell_type": "markdown",
   "id": "017d753c",
   "metadata": {},
   "source": [
    "Oh Damn! This is bad, 0.98%? My ass can count detect better than that.\n",
    "I could try a new approach. Let's see what further code does\n",
    "#### Tweaking model a bit and also scaling the input"
   ]
  },
  {
   "cell_type": "code",
   "execution_count": 9,
   "id": "5adf30dd",
   "metadata": {},
   "outputs": [],
   "source": [
    "X1_train_flat = X_train_flat/255\n",
    "X1_test_flat  = X_test_flat /255"
   ]
  },
  {
   "cell_type": "code",
   "execution_count": 10,
   "id": "5b5e4c71",
   "metadata": {},
   "outputs": [],
   "source": [
    "# Trying the same model here again, but with scaled inputs\n",
    "model2 = keras.Sequential([\n",
    "    keras.layers.Dense(10,input_shape=(784,),activation = 'sigmoid')\n",
    "])"
   ]
  },
  {
   "cell_type": "code",
   "execution_count": 11,
   "id": "e4cc1fd0",
   "metadata": {},
   "outputs": [],
   "source": [
    "# Changed optimizer from SGD to adam, i read on the internet that it can do wonders!\n",
    "model2.compile(optimizer = 'adam',loss = 'sparse_categorical_crossentropy',metrics = ['accuracy'])"
   ]
  },
  {
   "cell_type": "code",
   "execution_count": 12,
   "id": "abcad0bd",
   "metadata": {},
   "outputs": [
    {
     "name": "stdout",
     "output_type": "stream",
     "text": [
      "Epoch 1/5\n",
      "1875/1875 [==============================] - 2s 968us/step - loss: 0.4873 - accuracy: 0.8780\n",
      "Epoch 2/5\n",
      "1875/1875 [==============================] - 2s 955us/step - loss: 0.3063 - accuracy: 0.91580s - loss: 0.3057 - accura\n",
      "Epoch 3/5\n",
      "1875/1875 [==============================] - 2s 840us/step - loss: 0.2855 - accuracy: 0.9210\n",
      "Epoch 4/5\n",
      "1875/1875 [==============================] - 2s 837us/step - loss: 0.2747 - accuracy: 0.9240\n",
      "Epoch 5/5\n",
      "1875/1875 [==============================] - 2s 871us/step - loss: 0.2679 - accuracy: 0.9264\n"
     ]
    },
    {
     "data": {
      "text/plain": [
       "<tensorflow.python.keras.callbacks.History at 0x242b27658b0>"
      ]
     },
     "execution_count": 12,
     "metadata": {},
     "output_type": "execute_result"
    }
   ],
   "source": [
    "model2.fit(X1_train_flat,Y_train,epochs=5)"
   ]
  },
  {
   "cell_type": "code",
   "execution_count": 13,
   "id": "c485f592",
   "metadata": {},
   "outputs": [
    {
     "name": "stdout",
     "output_type": "stream",
     "text": [
      "313/313 [==============================] - 0s 784us/step - loss: 0.2657 - accuracy: 0.9262\n"
     ]
    },
    {
     "data": {
      "text/plain": [
       "[0.2656952738761902, 0.9261999726295471]"
      ]
     },
     "execution_count": 13,
     "metadata": {},
     "output_type": "execute_result"
    }
   ],
   "source": [
    "model2.evaluate(X1_test_flat,Y_test)"
   ]
  },
  {
   "cell_type": "markdown",
   "id": "ecc66fa5",
   "metadata": {},
   "source": [
    "Damn! 92% accuracy from 0.98% That some serious jump dawg! Awesome!"
   ]
  },
  {
   "cell_type": "code",
   "execution_count": 14,
   "id": "9d34f2ef",
   "metadata": {},
   "outputs": [
    {
     "data": {
      "text/plain": [
       "(<matplotlib.image.AxesImage at 0x242b279c910>, 0.73639405)"
      ]
     },
     "execution_count": 14,
     "metadata": {},
     "output_type": "execute_result"
    },
    {
     "data": {
      "image/png": "[encoded data removed]",
      "text/plain": [
       "<Figure size 288x288 with 1 Axes>"
      ]
     },
     "metadata": {
      "needs_background": "light"
     },
     "output_type": "display_data"
    }
   ],
   "source": [
    "#Playing with the output and drawing a confusion matrix\n",
    "y_predicted = model2.predict(X1_test_flat)\n",
    "plt.matshow(X_test[0]),max(y_predicted[0])"
   ]
  },
  {
   "cell_type": "code",
   "execution_count": 16,
   "id": "98973a30",
   "metadata": {},
   "outputs": [
    {
     "data": {
      "text/plain": [
       "<tf.Tensor: shape=(10, 10), dtype=int32, numpy=\n",
       "array([[ 961,    0,    1,    2,    0,    5,    7,    2,    2,    0],\n",
       "       [   0, 1112,    4,    2,    0,    1,    4,    2,   10,    0],\n",
       "       [   4,    9,  935,   12,    7,    5,   12,    9,   34,    5],\n",
       "       [   4,    0,   22,  926,    0,   18,    2,    9,   22,    7],\n",
       "       [   1,    1,    6,    1,  897,    0,   13,    4,   10,   49],\n",
       "       [  10,    3,    3,   35,    6,  771,   19,    4,   34,    7],\n",
       "       [  11,    3,    7,    1,    7,    9,  917,    2,    1,    0],\n",
       "       [   1,    7,   27,    9,    7,    1,    0,  930,    2,   44],\n",
       "       [   7,    7,    8,   20,    8,   22,   11,    7,  877,    7],\n",
       "       [  10,    7,    1,   10,   18,    6,    0,   14,    7,  936]])>"
      ]
     },
     "execution_count": 16,
     "metadata": {},
     "output_type": "execute_result"
    }
   ],
   "source": [
    "Y_predicted_labels = [np.argmax(i) for i in y_predicted]\n",
    "confu_mat = tf.math.confusion_matrix(labels= Y_test,predictions=Y_predicted_labels)\n",
    "confu_mat"
   ]
  },
  {
   "cell_type": "code",
   "execution_count": 18,
   "id": "c64a6621",
   "metadata": {},
   "outputs": [],
   "source": [
    "#Finally trying to use a hidden layer and checking\n",
    "model3 = keras.Sequential([\n",
    "    keras.layers.Dense(100,input_shape=(784,),activation='relu'),\n",
    "    keras.layers.Dense(10,activation='sigmoid')\n",
    "])"
   ]
  },
  {
   "cell_type": "code",
   "execution_count": 19,
   "id": "2efdd443",
   "metadata": {},
   "outputs": [
    {
     "name": "stdout",
     "output_type": "stream",
     "text": [
      "Epoch 1/5\n",
      "1875/1875 [==============================] - 2s 1ms/step - loss: 20.3692 - accuracy: 0.0777A: 1s - loss: 20\n",
      "Epoch 2/5\n",
      "1875/1875 [==============================] - 2s 1ms/step - loss: 20.2956 - accuracy: 0.0778\n",
      "Epoch 3/5\n",
      "1875/1875 [==============================] - 2s 1ms/step - loss: 20.2887 - accuracy: 0.0782\n",
      "Epoch 4/5\n",
      "1875/1875 [==============================] - 2s 1ms/step - loss: 20.2857 - accuracy: 0.0784A\n",
      "Epoch 5/5\n",
      "1875/1875 [==============================] - 2s 1ms/step - loss: 20.2840 - accuracy: 0.0783\n"
     ]
    },
    {
     "data": {
      "text/plain": [
       "<tensorflow.python.keras.callbacks.History at 0x242db3286d0>"
      ]
     },
     "execution_count": 19,
     "metadata": {},
     "output_type": "execute_result"
    }
   ],
   "source": [
    "#using the same parameters as model3\n",
    "model3.compile(optimizer='adam',loss = 'sparse_categorical_crossentropy',metrics=['accuracy'])\n",
    "model.fit(X1_train_flat,Y_train,epochs=5)"
   ]
  },
  {
   "cell_type": "markdown",
   "id": "1ecc24ba",
   "metadata": {},
   "source": [
    "This is bad!!"
   ]
  },
  {
   "cell_type": "code",
   "execution_count": 22,
   "id": "ab1f3d05",
   "metadata": {},
   "outputs": [],
   "source": [
    "#Using Flatten layer so that we don't have to call reshape again on input dataset\n",
    "model4 = keras.Sequential([\n",
    "    keras.layers.Flatten(input_shape=(28,28)),\n",
    "    keras.layers.Dense(100,activation='relu'),\n",
    "    keras.layers.Dense(10,activation = 'sigmoid')\n",
    "])"
   ]
  },
  {
   "cell_type": "code",
   "execution_count": 23,
   "id": "c8ea94bc",
   "metadata": {},
   "outputs": [],
   "source": [
    "model4.compile(optimizer='adam',loss = 'sparse_categorical_crossentropy',metrics=['accuracy'])"
   ]
  },
  {
   "cell_type": "code",
   "execution_count": 26,
   "id": "00341011",
   "metadata": {},
   "outputs": [
    {
     "name": "stdout",
     "output_type": "stream",
     "text": [
      "Epoch 1/10\n",
      "1875/1875 [==============================] - 2s 1ms/step - loss: 3.5063 - accuracy: 0.2691\n",
      "Epoch 2/10\n",
      "1875/1875 [==============================] - 2s 1ms/step - loss: 3.2567 - accuracy: 0.3929\n",
      "Epoch 3/10\n",
      "1875/1875 [==============================] - 2s 1ms/step - loss: 2.4344 - accuracy: 0.3848\n",
      "Epoch 4/10\n",
      "1875/1875 [==============================] - 2s 1ms/step - loss: 2.0282 - accuracy: 0.3195\n",
      "Epoch 5/10\n",
      "1875/1875 [==============================] - 2s 1ms/step - loss: 2.0235 - accuracy: 0.3334\n",
      "Epoch 6/10\n",
      "1875/1875 [==============================] - 2s 1ms/step - loss: 1.9965 - accuracy: 0.3216\n",
      "Epoch 7/10\n",
      "1875/1875 [==============================] - 2s 1ms/step - loss: 1.9144 - accuracy: 0.3345\n",
      "Epoch 8/10\n",
      "1875/1875 [==============================] - 2s 1ms/step - loss: 1.8168 - accuracy: 0.3850\n",
      "Epoch 9/10\n",
      "1875/1875 [==============================] - 2s 1ms/step - loss: 1.8815 - accuracy: 0.3326\n",
      "Epoch 10/10\n",
      "1875/1875 [==============================] - 2s 1ms/step - loss: 1.7716 - accuracy: 0.4165\n"
     ]
    },
    {
     "data": {
      "text/plain": [
       "<tensorflow.python.keras.callbacks.History at 0x242db026ac0>"
      ]
     },
     "execution_count": 26,
     "metadata": {},
     "output_type": "execute_result"
    }
   ],
   "source": [
    "model4.fit(X_train,Y_train,epochs=10)"
   ]
  },
  {
   "cell_type": "markdown",
   "id": "8389d71b",
   "metadata": {},
   "source": [
    "Not bad...but single layer was much more good at predicting...adding that extra layer...just messed everything up"
   ]
  }
 ],
 "metadata": {
  "kernelspec": {
   "display_name": "Python 3",
   "language": "python",
   "name": "python3"
  },
  "language_info": {
   "codemirror_mode": {
    "name": "ipython",
    "version": 3
   },
   "file_extension": ".py",
   "mimetype": "text/x-python",
   "name": "python",
   "nbconvert_exporter": "python",
   "pygments_lexer": "ipython3",
   "version": "3.8.8"
  }
 },
 "nbformat": 4,
 "nbformat_minor": 5
}
