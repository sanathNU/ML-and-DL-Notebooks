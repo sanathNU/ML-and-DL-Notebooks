{
 "cells": [
  {
   "cell_type": "markdown",
   "id": "c4f03b84",
   "metadata": {},
   "source": [
    "# Kannada MNIST classification using machine learning!"
   ]
  },
  {
   "cell_type": "code",
   "execution_count": 43,
   "id": "fd780a02",
   "metadata": {},
   "outputs": [],
   "source": [
    "# Importing all the required lib\n",
    "\n",
    "#Main classifier lib\n",
    "import tensorflow as tf\n",
    "from tensorflow import keras\n",
    "import matplotlib.pyplot as plt # All these other libs are for doing the functions\n",
    "import numpy as np\n",
    "import os\n",
    "import pandas as pd"
   ]
  },
  {
   "cell_type": "code",
   "execution_count": 44,
   "id": "d9d14fa9",
   "metadata": {},
   "outputs": [
    {
     "name": "stdout",
     "output_type": "stream",
     "text": [
      "(60000, 784) (10000, 784)\n"
     ]
    }
   ],
   "source": [
    "#assigning a variable for the os directory\n",
    "dir = './Kannada_MNIST_datataset_paper\\Kannada_MNIST_npz\\Kannada_MNIST'\n",
    "\n",
    "#assigning all testing and training values\n",
    "x_train = np.load( os.path.join(dir,'X_kannada_MNIST_train.npz'))['arr_0']\n",
    "x_test  = np.load( os.path.join(dir,'X_kannada_MNIST_test.npz'))['arr_0']\n",
    "y_train = np.load( os.path.join(dir,'y_kannada_MNIST_train.npz'))['arr_0']\n",
    "y_test  = np.load( os.path.join(dir,'y_kannada_MNIST_test.npz'))['arr_0']\n",
    "\n",
    "#printing shapes of the basic arrays\n",
    "print(X_train.shape, X_test.shape)"
   ]
  },
  {
   "cell_type": "code",
   "execution_count": 45,
   "id": "7da8b449",
   "metadata": {},
   "outputs": [
    {
     "name": "stdout",
     "output_type": "stream",
     "text": [
      "9\n"
     ]
    },
    {
     "data": {
      "image/png": "[encoded data removed]",
      "text/plain": [
       "<Figure size 432x288 with 1 Axes>"
      ]
     },
     "metadata": {
      "needs_background": "light"
     },
     "output_type": "display_data"
    }
   ],
   "source": [
    "#just plotting some images\n",
    "plt.imshow(x_train[1789]);\n",
    "print(y_train[1789])"
   ]
  },
  {
   "cell_type": "code",
   "execution_count": 46,
   "id": "5b1370a0",
   "metadata": {},
   "outputs": [],
   "source": [
    "##reshaping this stuff for more detailed analysis\n",
    "X_train = pd.DataFrame( x_train.reshape(x_train.shape[0],784))\n",
    "X_test  = pd.DataFrame( x_test.reshape(x_test.shape[0],784))\n",
    "Y_train = pd.DataFrame( y_train)\n",
    "Y_test  = pd.DataFrame( y_test)"
   ]
  },
  {
   "cell_type": "code",
   "execution_count": 47,
   "id": "e497cca4",
   "metadata": {},
   "outputs": [],
   "source": [
    "##normalizing the data\n",
    "X_train_norm = X_train.astype('float32')/255.0\n",
    "X_test_norm  = X_test.astype('float32')/255.0"
   ]
  },
  {
   "cell_type": "code",
   "execution_count": 48,
   "id": "617f2986",
   "metadata": {},
   "outputs": [],
   "source": [
    "# Very simple stuff, creating a single layer neural network using keras\n",
    "model = keras.Sequential([\n",
    "    keras.layers.Dense(10,input_shape=(784,),activation = 'sigmoid')\n",
    "])\n",
    "#using Adam optimizer\n",
    "model.compile(optimizer = 'SGD',loss = 'mean_squared_error',metrics = ['accuracy'])"
   ]
  },
  {
   "cell_type": "code",
   "execution_count": 49,
   "id": "9da808ef",
   "metadata": {},
   "outputs": [
    {
     "name": "stdout",
     "output_type": "stream",
     "text": [
      "Epoch 1/5\n",
      "1875/1875 [==============================] - 3s 1ms/step - loss: 20.7553 - accuracy: 0.0845A: 1s - loss: \n",
      "Epoch 2/5\n",
      "1875/1875 [==============================] - 2s 1ms/step - loss: 20.5375 - accuracy: 0.0814\n",
      "Epoch 3/5\n",
      "1875/1875 [==============================] - 2s 1ms/step - loss: 20.5226 - accuracy: 0.0810\n",
      "Epoch 4/5\n",
      "1875/1875 [==============================] - 2s 1ms/step - loss: 20.5163 - accuracy: 0.0809\n",
      "Epoch 5/5\n",
      "1875/1875 [==============================] - 2s 1ms/step - loss: 20.5128 - accuracy: 0.0807\n"
     ]
    },
    {
     "data": {
      "text/plain": [
       "<keras.callbacks.History at 0x1ab3d0e1b20>"
      ]
     },
     "execution_count": 49,
     "metadata": {},
     "output_type": "execute_result"
    }
   ],
   "source": [
    "#Training the model\n",
    "model.fit(X_train_norm,Y_train,epochs =5)"
   ]
  },
  {
   "cell_type": "code",
   "execution_count": 50,
   "id": "b289300f",
   "metadata": {},
   "outputs": [
    {
     "name": "stdout",
     "output_type": "stream",
     "text": [
      "313/313 [==============================] - 1s 1ms/step - loss: 20.5259 - accuracy: 0.0985\n"
     ]
    },
    {
     "data": {
      "text/plain": [
       "[20.52593994140625, 0.09849999845027924]"
      ]
     },
     "execution_count": 50,
     "metadata": {},
     "output_type": "execute_result"
    }
   ],
   "source": [
    "# TEsting the model using test data\n",
    "model.evaluate(X_test_norm,y_test)"
   ]
  },
  {
   "cell_type": "markdown",
   "id": "4ab186dc",
   "metadata": {},
   "source": [
    "DAmn!! This is bad accuracy, Should try another method now\n",
    "\n",
    "## Tweaking the circuit and testing again"
   ]
  },
  {
   "cell_type": "code",
   "execution_count": 51,
   "id": "b4e7069c",
   "metadata": {},
   "outputs": [],
   "source": [
    "#same model as earlier, I just changed the loss function\n",
    "model1 = keras.Sequential([\n",
    "    keras.layers.Dense(10,input_shape=(784,),activation = 'sigmoid')\n",
    "])\n",
    "#using the same model but a little bit different model for evaluation\n",
    "model1.compile(optimizer = 'adam',loss = 'sparse_categorical_crossentropy',metrics = ['accuracy'])"
   ]
  },
  {
   "cell_type": "code",
   "execution_count": 52,
   "id": "0b07e8a3",
   "metadata": {},
   "outputs": [
    {
     "name": "stdout",
     "output_type": "stream",
     "text": [
      "Epoch 1/10\n",
      "1875/1875 [==============================] - 4s 2ms/step - loss: 0.3140 - accuracy: 0.9324: 1s - l\n",
      "Epoch 2/10\n",
      "1875/1875 [==============================] - 3s 2ms/step - loss: 0.1374 - accuracy: 0.9628\n",
      "Epoch 3/10\n",
      "1875/1875 [==============================] - 3s 2ms/step - loss: 0.1163 - accuracy: 0.9680: 0s - loss: 0.1162 - accuracy: 0.96\n",
      "Epoch 4/10\n",
      "1875/1875 [==============================] - 3s 2ms/step - loss: 0.1057 - accuracy: 0.9703\n",
      "Epoch 5/10\n",
      "1875/1875 [==============================] - 2s 1ms/step - loss: 0.0988 - accuracy: 0.9717\n",
      "Epoch 6/10\n",
      "1875/1875 [==============================] - 3s 1ms/step - loss: 0.0945 - accuracy: 0.9728\n",
      "Epoch 7/10\n",
      "1875/1875 [==============================] - 3s 1ms/step - loss: 0.0907 - accuracy: 0.9736\n",
      "Epoch 8/10\n",
      "1875/1875 [==============================] - 3s 1ms/step - loss: 0.0881 - accuracy: 0.9743\n",
      "Epoch 9/10\n",
      "1875/1875 [==============================] - 2s 1ms/step - loss: 0.0856 - accuracy: 0.9748\n",
      "Epoch 10/10\n",
      "1875/1875 [==============================] - 2s 1ms/step - loss: 0.0837 - accuracy: 0.9754\n"
     ]
    },
    {
     "data": {
      "text/plain": [
       "<keras.callbacks.History at 0x1ab001c7760>"
      ]
     },
     "execution_count": 52,
     "metadata": {},
     "output_type": "execute_result"
    }
   ],
   "source": [
    "#training the model\n",
    "model1.fit(X_train_norm,y_train,epochs=10)"
   ]
  },
  {
   "cell_type": "code",
   "execution_count": 38,
   "id": "1871d089",
   "metadata": {},
   "outputs": [
    {
     "name": "stdout",
     "output_type": "stream",
     "text": [
      "313/313 [==============================] - 1s 1ms/step - loss: 0.3157 - accuracy: 0.9137\n"
     ]
    },
    {
     "data": {
      "text/plain": [
       "[0.31570807099342346, 0.9136999845504761]"
      ]
     },
     "execution_count": 38,
     "metadata": {},
     "output_type": "execute_result"
    }
   ],
   "source": [
    "model1.evaluate(X_test_norm,y_test)"
   ]
  },
  {
   "cell_type": "markdown",
   "id": "812daa24",
   "metadata": {},
   "source": [
    "OOh Damn boi! from 0.8% to 91% Accuracy! Learnt a Good lesson!!"
   ]
  }
 ],
 "metadata": {
  "kernelspec": {
   "display_name": "DS",
   "language": "python",
   "name": "ds"
  },
  "language_info": {
   "codemirror_mode": {
    "name": "ipython",
    "version": 3
   },
   "file_extension": ".py",
   "mimetype": "text/x-python",
   "name": "python",
   "nbconvert_exporter": "python",
   "pygments_lexer": "ipython3",
   "version": "3.9.7"
  }
 },
 "nbformat": 4,
 "nbformat_minor": 5
}
