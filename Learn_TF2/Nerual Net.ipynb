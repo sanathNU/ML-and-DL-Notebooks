{
 "cells": [
  {
   "cell_type": "markdown",
   "id": "87258dab",
   "metadata": {},
   "source": [
    "### This is just basic implementation of deep learning using keras api\n",
    "We gonna use the mnist fashion dataset to try and predict what kind of material"
   ]
  },
  {
   "cell_type": "code",
   "execution_count": 58,
   "id": "d5207d04",
   "metadata": {},
   "outputs": [],
   "source": [
    "#Importing all basic required libraries\n",
    "import numpy as np\n",
    "import tensorflow as tf\n",
    "from datetime import datetime\n",
    "import tensorflow.keras as keras\n",
    "#Importing other image manipulation libraries\n",
    "from __future__ import absolute_import,division,print_function,unicode_literals"
   ]
  },
  {
   "cell_type": "code",
   "execution_count": 59,
   "id": "5878c17a",
   "metadata": {},
   "outputs": [
    {
     "name": "stdout",
     "output_type": "stream",
     "text": [
      "The tensorboard extension is already loaded. To reload it, use:\n",
      "  %reload_ext tensorboard\n"
     ]
    }
   ],
   "source": [
    "# Load the TensorBoard notebook extension.\n",
    "%load_ext tensorboard\n",
    "import tensorboard"
   ]
  },
  {
   "cell_type": "code",
   "execution_count": 60,
   "id": "6eb56d6c",
   "metadata": {},
   "outputs": [],
   "source": [
    "#finding the test and training API\n",
    "(training_images, training_labels), (test_images, test_labels) = keras.datasets.fashion_mnist.load_data()\n",
    "#This is the dictionaryof names\n",
    "class_names = ['T-shirt/top', 'Trouser', 'Pullover', 'Dress', 'Coat', 'Sandal', 'Shirt', 'Sneaker', 'Bag', 'Ankle boot']"
   ]
  },
  {
   "cell_type": "code",
   "execution_count": 61,
   "id": "13388393",
   "metadata": {},
   "outputs": [],
   "source": [
    "#Preprocessing the data by normalizing\n",
    "training_images = training_images / 255.0\n",
    "test_images = test_images / 255.0"
   ]
  },
  {
   "cell_type": "code",
   "execution_count": 62,
   "id": "c78201bb",
   "metadata": {},
   "outputs": [],
   "source": [
    "input_data_shape = (28, 28)  #shape of input shape\n",
    "hidden_activation_function = 'relu'\n",
    "output_activation_function = 'softmax'\n",
    "\n",
    "nn_model = keras.models.Sequential()\n",
    "nn_model.add(keras.layers.Flatten(input_shape=input_data_shape, name='Input_layer'))\n",
    "nn_model.add(keras.layers.Dense(32, activation=hidden_activation_function, name='Hidden_layer'))\n",
    "nn_model.add(keras.layers.Dense(10, activation=output_activation_function, name='Output_layer'))"
   ]
  },
  {
   "cell_type": "code",
   "execution_count": 63,
   "id": "68b04813",
   "metadata": {},
   "outputs": [],
   "source": [
    "# parameters for compiling\n",
    "optimizer = 'adam'\n",
    "loss_function = 'sparse_categorical_crossentropy'\n",
    "metric = ['accuracy']\n",
    "nn_model.compile(optimizer=optimizer, loss=loss_function, metrics=metric)"
   ]
  },
  {
   "cell_type": "code",
   "execution_count": 64,
   "id": "1a9731ce",
   "metadata": {},
   "outputs": [
    {
     "name": "stdout",
     "output_type": "stream",
     "text": [
      "Epoch 1/10\n",
      "   1/1875 [..............................] - ETA: 0s - loss: 2.3344 - accuracy: 0.2188WARNING:tensorflow:Callbacks method `on_train_batch_end` is slow compared to the batch time (batch time: 0.0000s vs `on_train_batch_end` time: 0.0400s). Check your callbacks.\n",
      "1875/1875 [==============================] - 2s 1ms/step - loss: 0.5459 - accuracy: 0.8127\n",
      "Epoch 2/10\n",
      "1875/1875 [==============================] - 2s 869us/step - loss: 0.4136 - accuracy: 0.8527\n",
      "Epoch 3/10\n",
      "1875/1875 [==============================] - 2s 826us/step - loss: 0.3808 - accuracy: 0.8653\n",
      "Epoch 4/10\n",
      "1875/1875 [==============================] - 2s 821us/step - loss: 0.3626 - accuracy: 0.8713\n",
      "Epoch 5/10\n",
      "1875/1875 [==============================] - 2s 885us/step - loss: 0.3470 - accuracy: 0.8759\n",
      "Epoch 6/10\n",
      "1875/1875 [==============================] - 2s 821us/step - loss: 0.3348 - accuracy: 0.8797\n",
      "Epoch 7/10\n",
      "1875/1875 [==============================] - 2s 826us/step - loss: 0.3236 - accuracy: 0.8833\n",
      "Epoch 8/10\n",
      "1875/1875 [==============================] - 2s 821us/step - loss: 0.3148 - accuracy: 0.8873\n",
      "Epoch 9/10\n",
      "1875/1875 [==============================] - 2s 826us/step - loss: 0.3102 - accuracy: 0.8882\n",
      "Epoch 10/10\n",
      "1875/1875 [==============================] - 2s 826us/step - loss: 0.3014 - accuracy: 0.8899\n"
     ]
    },
    {
     "data": {
      "text/plain": [
       "<tensorflow.python.keras.callbacks.History at 0x20600d6b940>"
      ]
     },
     "execution_count": 64,
     "metadata": {},
     "output_type": "execute_result"
    }
   ],
   "source": [
    "#calling tensorflow callback before fitting the data\n",
    "logdir=\"logs/fit/\" + datetime.now().strftime(\"%Y%m%d-%H%M%S\")\n",
    "tensorboard_callback = keras.callbacks.TensorBoard(log_dir=logdir)\n",
    "\n",
    "#finally fitting the data\n",
    "nn_model.fit(training_images, training_labels, epochs=10,callbacks=[tensorboard_callback])"
   ]
  },
  {
   "cell_type": "code",
   "execution_count": 65,
   "id": "1d3d55db",
   "metadata": {},
   "outputs": [
    {
     "name": "stdout",
     "output_type": "stream",
     "text": [
      "1875/1875 [==============================] - 1s 746us/step - loss: 0.3006 - accuracy: 0.8915\n",
      "Training Data Accuracy 0.89\n"
     ]
    }
   ],
   "source": [
    "#Evaluating test and training data\n",
    "training_loss, training_accuracy = nn_model.evaluate(training_images, training_labels)\n",
    "print('Training Data Accuracy {}'.format(round(float(training_accuracy),2)))"
   ]
  },
  {
   "cell_type": "code",
   "execution_count": 66,
   "id": "be9eca4a",
   "metadata": {},
   "outputs": [
    {
     "name": "stdout",
     "output_type": "stream",
     "text": [
      "313/313 [==============================] - 0s 1ms/step - loss: 0.3859 - accuracy: 0.8619\n",
      "Test Data Accuracy 0.86\n"
     ]
    }
   ],
   "source": [
    "# testing accuracy data also!\n",
    "test_loss, test_accuracy = nn_model.evaluate(test_images, test_labels)\n",
    "\n",
    "print('Test Data Accuracy {}'.format(round(float(test_accuracy),2)))"
   ]
  },
  {
   "cell_type": "code",
   "execution_count": 67,
   "id": "0e21597f",
   "metadata": {},
   "outputs": [
    {
     "data": {
      "text/plain": [
       "Reusing TensorBoard on port 6006 (pid 13188), started 0:02:19 ago. (Use '!kill 13188' to kill it.)"
      ]
     },
     "metadata": {},
     "output_type": "display_data"
    },
    {
     "data": {
      "text/html": [
       "\n",
       "      <iframe id=\"tensorboard-frame-a5b862afaa3b49fd\" width=\"100%\" height=\"800\" frameborder=\"0\">\n",
       "      </iframe>\n",
       "      <script>\n",
       "        (function() {\n",
       "          const frame = document.getElementById(\"tensorboard-frame-a5b862afaa3b49fd\");\n",
       "          const url = new URL(\"/\", window.location);\n",
       "          const port = 6006;\n",
       "          if (port) {\n",
       "            url.port = port;\n",
       "          }\n",
       "          frame.src = url;\n",
       "        })();\n",
       "      </script>\n",
       "    "
      ],
      "text/plain": [
       "<IPython.core.display.HTML object>"
      ]
     },
     "metadata": {},
     "output_type": "display_data"
    }
   ],
   "source": [
    "%tensorboard --logdir logs/fit"
   ]
  },
  {
   "cell_type": "code",
   "execution_count": 36,
   "id": "44b422a0",
   "metadata": {},
   "outputs": [],
   "source": []
  },
  {
   "cell_type": "code",
   "execution_count": null,
   "id": "7703daf3",
   "metadata": {},
   "outputs": [],
   "source": []
  }
 ],
 "metadata": {
  "kernelspec": {
   "display_name": "Python 3",
   "language": "python",
   "name": "python3"
  },
  "language_info": {
   "codemirror_mode": {
    "name": "ipython",
    "version": 3
   },
   "file_extension": ".py",
   "mimetype": "text/x-python",
   "name": "python",
   "nbconvert_exporter": "python",
   "pygments_lexer": "ipython3",
   "version": "3.8.8"
  }
 },
 "nbformat": 4,
 "nbformat_minor": 5
}
